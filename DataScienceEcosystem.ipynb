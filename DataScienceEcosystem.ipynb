{
  "nbformat": 4,
  "nbformat_minor": 0,
  "metadata": {
    "colab": {
      "provenance": []
    },
    "kernelspec": {
      "name": "python3",
      "display_name": "Python 3"
    },
    "language_info": {
      "name": "python"
    }
  },
  "cells": [
    {
      "cell_type": "markdown",
      "source": [
        "# Data Science Tools and Ecosystem\n",
        "\n"
      ],
      "metadata": {
        "id": "UX7-RJZjlWjo"
      }
    },
    {
      "cell_type": "markdown",
      "source": [
        "## Author:\n",
        "SHENGHAN CHEN"
      ],
      "metadata": {
        "id": "8dLjsZYz1xyX"
      }
    },
    {
      "cell_type": "markdown",
      "source": [
        "In this notebook, Data Science Tools and Ecosystem are summarized."
      ],
      "metadata": {
        "id": "uVulOOXAmjtj"
      }
    },
    {
      "cell_type": "markdown",
      "source": [
        "**Objectives:**\n",
        "\n",
        "\n",
        "*   List popular languages for Data Science\n",
        "*   List commonly used libraries used by Data Scientists\n",
        "*   Do some arithmetic expressions in Python\n",
        "\n"
      ],
      "metadata": {
        "id": "4fFQ8qDL080X"
      }
    },
    {
      "cell_type": "markdown",
      "source": [
        "Some of the popular languages that Data Scientists use are:\n",
        "1.   Python\n",
        "2.   R\n",
        "3.   C\n",
        "4.   Java\n",
        "\n",
        "\n",
        "\n"
      ],
      "metadata": {
        "id": "JKHEHCPEmzir"
      }
    },
    {
      "cell_type": "markdown",
      "source": [
        "Some of the commonly used libraries used by Data Scientists include:\n",
        "1.   Pandas\n",
        "2.   Scikit Learn\n",
        "3.   Matplotlib\n",
        "\n"
      ],
      "metadata": {
        "id": "uxy5Ba5KqcLV"
      }
    },
    {
      "cell_type": "markdown",
      "source": [
        "| Data Science Tools |\n",
        "|-----|\n",
        "| Visual Studio |\n",
        "| Jupyter Notebook |\n",
        "| Anaconda |"
      ],
      "metadata": {
        "id": "6jEzg_pGzHZK"
      }
    },
    {
      "cell_type": "markdown",
      "source": [
        "### Below are a few examples of evaluating arithmetic expressions in Python\n"
      ],
      "metadata": {
        "id": "-VtCDkUbzpm-"
      }
    },
    {
      "cell_type": "code",
      "execution_count": 2,
      "metadata": {
        "colab": {
          "base_uri": "https://localhost:8080/"
        },
        "id": "_ahZzuc1lAMG",
        "outputId": "5f016e96-baaa-4618-808c-95343a9734bd"
      },
      "outputs": [
        {
          "output_type": "execute_result",
          "data": {
            "text/plain": [
              "17"
            ]
          },
          "metadata": {},
          "execution_count": 2
        }
      ],
      "source": [
        "#  This a simple arithmetic expression to mutiply then add integers\n",
        "(3*4)+5"
      ]
    },
    {
      "cell_type": "code",
      "source": [
        "# This will convert 200 minutes to hours by diving by 60\n",
        "200 / 60"
      ],
      "metadata": {
        "colab": {
          "base_uri": "https://localhost:8080/"
        },
        "id": "II8gWJ5A0W7c",
        "outputId": "36ee2ede-ebe8-434a-cd4c-9e37ddbf5c66"
      },
      "execution_count": 3,
      "outputs": [
        {
          "output_type": "execute_result",
          "data": {
            "text/plain": [
              "3.3333333333333335"
            ]
          },
          "metadata": {},
          "execution_count": 3
        }
      ]
    }
  ]
}